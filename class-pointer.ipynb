{
 "cells": [
  {
   "cell_type": "code",
   "execution_count": 1,
   "metadata": {},
   "outputs": [],
   "source": [
    "class Mobil:\n",
    "    def __init__(self, merk, tahun, harga):\n",
    "        self.merk = merk\n",
    "        self.tahun = tahun\n",
    "        self.harga = harga\n",
    "\n",
    "    def tampilkan_merk(self):\n",
    "        print(\"Merk mobil:\", self.merk)\n",
    "\n",
    "    def tampilkan_tahun(self):\n",
    "        print(\"Tahun mobil:\", self.tahun)\n",
    "\n",
    "    def tampilkan_harga(self):\n",
    "        print(\"Harga mobil:\", self.harga)"
   ]
  }
 ],
 "metadata": {
  "kernelspec": {
   "display_name": "Python 3",
   "language": "python",
   "name": "python3"
  },
  "language_info": {
   "codemirror_mode": {
    "name": "ipython",
    "version": 3
   },
   "file_extension": ".py",
   "mimetype": "text/x-python",
   "name": "python",
   "nbconvert_exporter": "python",
   "pygments_lexer": "ipython3",
   "version": "3.10.6"
  },
  "orig_nbformat": 4
 },
 "nbformat": 4,
 "nbformat_minor": 2
}
