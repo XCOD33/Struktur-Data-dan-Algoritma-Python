{
 "cells": [
  {
   "cell_type": "code",
   "execution_count": 12,
   "metadata": {},
   "outputs": [],
   "source": [
    "class Node:\n",
    "    def __init__(self, value):\n",
    "        self.value = value\n",
    "        self.next = None\n",
    "        self.pre = None\n",
    "        \n",
    "class DoublyLinkedList:\n",
    "    def __init__(self, value):\n",
    "        new_node = Node(value)\n",
    "        self.head = new_node\n",
    "        self.tail = new_node\n",
    "        self.length = 1\n",
    "        \n",
    "    def print_list(self):\n",
    "        temp = self.head\n",
    "        while temp is not None:\n",
    "            print(temp.value)\n",
    "            temp = temp.next\n",
    "            \n",
    "    def append(self, value):\n",
    "        new_node = Node(value)\n",
    "        if self.length == 0:\n",
    "            self.head = new_node\n",
    "            self.head = new_node\n",
    "        else:\n",
    "            self.tail.next = new_node\n",
    "            new_node.prev = self.tail\n",
    "            self.tail = new_node\n",
    "            self.length += 1\n",
    "        return True\n",
    "        \n",
    "    def pop(self):\n",
    "        if self.length == 0:\n",
    "            return None\n",
    "        temp = self.tail\n",
    "        if self.length == 1:\n",
    "            self.head = None\n",
    "            self.tail = None\n",
    "        else:\n",
    "            self.tail = self.tail.prev\n",
    "            self.tail.next = None\n",
    "            temp.prev = None\n",
    "            self.length -= 1\n",
    "        return temp\n",
    "    \n",
    "    def prepend(self, value):\n",
    "        new_node = Node(value)\n",
    "        if self.length == 0:\n",
    "            self.head = new_node\n",
    "            self.tail = new_node\n",
    "        else:\n",
    "            new_node.next = self.head\n",
    "            self.head.prev = new_node\n",
    "            self.head = new_node\n",
    "        self.length += 1\n",
    "        return True\n",
    "\n",
    "    def pop_first(self):\n",
    "        if self.length == 0:\n",
    "            return None\n",
    "        temp = self.head\n",
    "        if self.length == 1:\n",
    "            self.head = None\n",
    "            self.tail = None\n",
    "        else:\n",
    "            self.head = self.head.next\n",
    "            self.head.prev = None\n",
    "            temp.next = None\n",
    "        self.length -= 1\n",
    "        return temp\n",
    "    \n",
    "    def get(self, index):\n",
    "        if index < 0 or index >= self.length:\n",
    "            return None\n",
    "        temp = self.head \n",
    "        if index < self.length / 2:\n",
    "            for _ in range(index):\n",
    "                temp = temp.next\n",
    "            return temp\n",
    "        else:\n",
    "            temp = self.tail\n",
    "            for _ in range(self.length - 1, index, -1):\n",
    "                temp = temp.prev\n",
    "        return temp\n",
    "    \n",
    "    def set_value(self, index, value):\n",
    "        temp = self.get(index)\n",
    "        if temp:\n",
    "            temp.value = value\n",
    "        return True\n",
    "        return False\n",
    "    \n",
    "    def insert(self, index, value):\n",
    "        if index < 0 or index > self.length:\n",
    "            return False\n",
    "        if index == 0:\n",
    "            return self.prepend(value)\n",
    "        if index == self.length:\n",
    "            return self.append(value)\n",
    "        new_node = Node(value)\n",
    "        temp = self.get(index - 1)\n",
    "        new_node.next = temp.next\n",
    "        temp.next = new_node\n",
    "        self.length += 1\n",
    "        return True\n",
    "    \n",
    "    def remove(self, index):\n",
    "        if index < 0 or index > self.length:\n",
    "            return None\n",
    "        if index == 0:\n",
    "            return self.pop_first()\n",
    "        if index == self.length - 1:\n",
    "            return self.pop()\n",
    "        pre = self.get(index - 1)\n",
    "        temp = pre.next\n",
    "        pre.next = temp.next\n",
    "        temp.next = None\n",
    "        self.length -= 1\n",
    "        return temp"
   ]
  },
  {
   "cell_type": "code",
   "execution_count": 2,
   "metadata": {},
   "outputs": [
    {
     "name": "stdout",
     "output_type": "stream",
     "text": [
      "\n",
      "      Head : 7\n",
      "      Tail : 7\n",
      "      Length : 1\n",
      "      \n"
     ]
    }
   ],
   "source": [
    "my_double_linked_list = DoublyLinkedList(7)\n",
    "\n",
    "print(f\"\"\"\n",
    "      Head : {my_double_linked_list.head.value}\n",
    "      Tail : {my_double_linked_list.tail.value}\n",
    "      Length : {my_double_linked_list.length}\n",
    "      \"\"\")"
   ]
  },
  {
   "cell_type": "code",
   "execution_count": 4,
   "metadata": {},
   "outputs": [
    {
     "name": "stdout",
     "output_type": "stream",
     "text": [
      "1\n",
      "2\n",
      "4\n",
      "\n",
      "      Head : 1\n",
      "      Tail : 4\n",
      "      Length : 3\n",
      "      Doubly Linked List : None\n",
      "      \n"
     ]
    }
   ],
   "source": [
    "my_double_linked_list = DoublyLinkedList(1)\n",
    "my_double_linked_list.append(2)\n",
    "my_double_linked_list.append(4)\n",
    "\n",
    "print(f\"\"\"\n",
    "      Head : {my_double_linked_list.head.value}\n",
    "      Tail : {my_double_linked_list.tail.value}\n",
    "      Length : {my_double_linked_list.length}\n",
    "      Doubly Linked List : {my_double_linked_list.print_list()}\n",
    "      \"\"\")"
   ]
  },
  {
   "cell_type": "code",
   "execution_count": 6,
   "metadata": {},
   "outputs": [
    {
     "name": "stdout",
     "output_type": "stream",
     "text": [
      "\n",
      "      5\n",
      "      2\n",
      "      1\n",
      "      None\n",
      "      \n"
     ]
    }
   ],
   "source": [
    "my_double_linked_list = DoublyLinkedList(1)\n",
    "my_double_linked_list.append(2)\n",
    "my_double_linked_list.append(5)\n",
    "\n",
    "print(f\"\"\"\n",
    "      {my_double_linked_list.pop().value}\n",
    "      {my_double_linked_list.pop().value}\n",
    "      {my_double_linked_list.pop().value}\n",
    "      {my_double_linked_list.pop()}\n",
    "      \"\"\")"
   ]
  },
  {
   "cell_type": "code",
   "execution_count": 10,
   "metadata": {},
   "outputs": [
    {
     "name": "stdout",
     "output_type": "stream",
     "text": [
      "2\n",
      "3\n",
      "\n",
      "      Before prepend() :\n",
      "      ------------------\n",
      "      Head : 2\n",
      "      Tail : 3\n",
      "      Length : 2\n",
      "      Doubly Linked List :\n",
      "      None\n",
      "      True\n",
      "      \n",
      "      After prepend() :\n",
      "      -----------------\n",
      "      Head : 1\n",
      "      Tail : 3\n",
      "      Length : 3\n",
      "      \n"
     ]
    }
   ],
   "source": [
    "my_double_linked_list = DoublyLinkedList(2)\n",
    "my_double_linked_list.append(3)\n",
    "\n",
    "print(f\"\"\"\n",
    "      Before prepend() :\n",
    "      ------------------\n",
    "      Head : {my_double_linked_list.head.value}\n",
    "      Tail : {my_double_linked_list.tail.value}\n",
    "      Length : {my_double_linked_list.length}\n",
    "      Doubly Linked List :\n",
    "      {my_double_linked_list.print_list()}\n",
    "      {my_double_linked_list.prepend(1)}\n",
    "      \n",
    "      After prepend() :\n",
    "      -----------------\n",
    "      Head : {my_double_linked_list.head.value}\n",
    "      Tail : {my_double_linked_list.tail.value}\n",
    "      Length : {my_double_linked_list.length}\n",
    "      \"\"\")"
   ]
  },
  {
   "cell_type": "code",
   "execution_count": 14,
   "metadata": {},
   "outputs": [
    {
     "name": "stdout",
     "output_type": "stream",
     "text": [
      "2\n",
      "1\n",
      "9\n",
      "None\n"
     ]
    }
   ],
   "source": [
    "my_double_linked_list = DoublyLinkedList(2)\n",
    "my_double_linked_list.append(1)\n",
    "my_double_linked_list.append(9)\n",
    "\n",
    "print(my_double_linked_list.pop_first().value)\n",
    "print(my_double_linked_list.pop_first().value)\n",
    "print(my_double_linked_list.pop_first().value)\n",
    "print(my_double_linked_list.pop_first())"
   ]
  },
  {
   "cell_type": "code",
   "execution_count": 16,
   "metadata": {},
   "outputs": [
    {
     "name": "stdout",
     "output_type": "stream",
     "text": [
      "\n",
      "      Get Node from first half of DLL :\n",
      "      1\n",
      "      \n",
      "      Get node from second hald of DLL :\n",
      "      2\n",
      "      \n"
     ]
    }
   ],
   "source": [
    "my_double_linked_list = DoublyLinkedList(0)\n",
    "my_double_linked_list.append(1)\n",
    "my_double_linked_list.append(2)\n",
    "my_double_linked_list.append(3)\n",
    "\n",
    "print(f\"\"\"\n",
    "      Get Node from first half of DLL :\n",
    "      {my_double_linked_list.get(1).value}\n",
    "      \n",
    "      Get node from second hald of DLL :\n",
    "      {my_double_linked_list.get(2).value}\n",
    "      \"\"\")"
   ]
  },
  {
   "cell_type": "code",
   "execution_count": 17,
   "metadata": {},
   "outputs": [
    {
     "name": "stdout",
     "output_type": "stream",
     "text": [
      "11\n",
      "3\n",
      "23\n",
      "7\n",
      "11\n",
      "4\n",
      "23\n",
      "7\n",
      "\n",
      "      DLL before set_value()\n",
      "      None\n",
      "      True\n",
      "      \n",
      "      DLL after set_value()\n",
      "      None\n",
      "      True\n",
      "      \n"
     ]
    }
   ],
   "source": [
    "my_double_linked_list = DoublyLinkedList(11)\n",
    "my_double_linked_list.append(3)\n",
    "my_double_linked_list.append(23)\n",
    "my_double_linked_list.append(7)\n",
    "\n",
    "print(f\"\"\"\n",
    "      DLL before set_value()\n",
    "      {my_double_linked_list.print_list()}\n",
    "      {my_double_linked_list.set_value(1, 4)}\n",
    "      \n",
    "      DLL after set_value()\n",
    "      {my_double_linked_list.print_list()}\n",
    "      {my_double_linked_list.set_value(1, 4)}\n",
    "      \"\"\")"
   ]
  }
 ],
 "metadata": {
  "kernelspec": {
   "display_name": "Python 3",
   "language": "python",
   "name": "python3"
  },
  "language_info": {
   "codemirror_mode": {
    "name": "ipython",
    "version": 3
   },
   "file_extension": ".py",
   "mimetype": "text/x-python",
   "name": "python",
   "nbconvert_exporter": "python",
   "pygments_lexer": "ipython3",
   "version": "3.10.6"
  },
  "orig_nbformat": 4
 },
 "nbformat": 4,
 "nbformat_minor": 2
}
