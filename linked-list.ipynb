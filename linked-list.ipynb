{
 "cells": [
  {
   "cell_type": "code",
   "execution_count": 30,
   "metadata": {},
   "outputs": [],
   "source": [
    "class Node:\n",
    "    def __init__(self, value):\n",
    "        self.value = value\n",
    "        self.next = None\n",
    "        \n",
    "class LinkedList:\n",
    "    def __init__(self, value):\n",
    "        new_node = Node(value)\n",
    "        self.head = new_node\n",
    "        self.tail = new_node\n",
    "        self.length = 1\n",
    "        \n",
    "    def print_list(self):\n",
    "        temp = self.head\n",
    "        while temp is not None:\n",
    "            print(temp.value)\n",
    "            temp = temp.next\n",
    "            \n",
    "    def append(self, value):\n",
    "        new_node = Node(value)\n",
    "        if self.length == 0:\n",
    "            self.head = new_node\n",
    "            self.head = new_node\n",
    "        else:\n",
    "            self.tail.next = new_node\n",
    "            self.tail = new_node\n",
    "        self.length += 1\n",
    "        return True\n",
    "        \n",
    "    def pop(self):\n",
    "        if self.length == 0:\n",
    "            return None\n",
    "        temp = self.head\n",
    "        pre = self.head\n",
    "        while(temp.next):\n",
    "            pre = temp\n",
    "            temp = temp.next\n",
    "        self.tail = pre\n",
    "        self.tail.next = None\n",
    "        self.length -= 1\n",
    "        if self.length == 0:\n",
    "            self.head = None\n",
    "            self.tail = None\n",
    "        return temp\n",
    "    \n",
    "    def prepend(self, value):\n",
    "        new_node = Node(value)\n",
    "        if self.length == 0:\n",
    "            self.head = new_node\n",
    "            self.tail = new_node\n",
    "        else:\n",
    "            new_node.next = self.head\n",
    "            self.head = new_node\n",
    "        self.length += 1\n",
    "        return True\n",
    "\n",
    "    def pop_first(self):\n",
    "        if self.length == 0:\n",
    "            return None\n",
    "        temp = self.head\n",
    "        self.head = self.head.next\n",
    "        temp.next = None\n",
    "        self.length -= 1\n",
    "        if self.length == 0:\n",
    "            self.tail = None\n",
    "        return temp\n",
    "    \n",
    "    def get(self, index):\n",
    "        if index < 0 or index >= self.length:\n",
    "            return None\n",
    "        temp = self.head \n",
    "        for _ in range(index):\n",
    "            temp = temp.next\n",
    "        return temp\n",
    "    \n",
    "    def set_value(self, index, value):\n",
    "        temp = self.get(index)\n",
    "        if temp:\n",
    "            temp.value = value\n",
    "        return True\n",
    "        return False\n",
    "    \n",
    "    def insert(self, index, value):\n",
    "        if index < 0 or index > self.length:\n",
    "            return False\n",
    "        if index == 0:\n",
    "            return self.prepend(value)\n",
    "        if index == self.length:\n",
    "            return self.append(value)\n",
    "        new_node = Node(value)\n",
    "        temp = self.get(index - 1)\n",
    "        new_node.next = temp.next\n",
    "        temp.next = new_node\n",
    "        self.length += 1\n",
    "        return True\n",
    "    \n",
    "    def remove(self, index):\n",
    "        if index < 0 or index > self.length:\n",
    "            return None\n",
    "        if index == 0:\n",
    "            return self.pop_first()\n",
    "        if index == self.length - 1:\n",
    "            return self.pop()\n",
    "        pre = self.get(index - 1)\n",
    "        temp = pre.next\n",
    "        pre.next = temp.next\n",
    "        temp.next = None\n",
    "        self.length -= 1\n",
    "        return temp"
   ]
  },
  {
   "cell_type": "code",
   "execution_count": 16,
   "metadata": {},
   "outputs": [
    {
     "name": "stdout",
     "output_type": "stream",
     "text": [
      "11\n",
      "3\n",
      "23\n",
      "7\n"
     ]
    }
   ],
   "source": [
    "my_linked_list = LinkedList(11)\n",
    "my_linked_list.append(3)\n",
    "my_linked_list.append(23)\n",
    "my_linked_list.append(7)\n",
    "\n",
    "my_linked_list.print_list()"
   ]
  },
  {
   "cell_type": "code",
   "execution_count": 17,
   "metadata": {},
   "outputs": [
    {
     "name": "stdout",
     "output_type": "stream",
     "text": [
      "2\n",
      "1\n",
      "None\n"
     ]
    }
   ],
   "source": [
    "my_linked_list = LinkedList(1)\n",
    "my_linked_list.append(2)\n",
    "\n",
    "print(my_linked_list.pop().value)\n",
    "print(my_linked_list.pop().value)\n",
    "print(my_linked_list.pop())"
   ]
  },
  {
   "cell_type": "code",
   "execution_count": 23,
   "metadata": {},
   "outputs": [
    {
     "name": "stdout",
     "output_type": "stream",
     "text": [
      "2\n",
      "3\n",
      "\n",
      "      Before prepend() :\n",
      "      ------------------\n",
      "      Head : 2\n",
      "      Tail : 3\n",
      "      Length : 2\n",
      "      Linked List : None\n",
      "      \n",
      "1\n",
      "2\n",
      "3\n",
      "\n",
      "      After prepend() :\n",
      "      -----------------\n",
      "      Head : 1\n",
      "      Tail : 3\n",
      "      Length : 3\n",
      "      Linked List : None\n",
      "      \n"
     ]
    }
   ],
   "source": [
    "my_linked_list = LinkedList(2)\n",
    "my_linked_list.append(3)\n",
    "\n",
    "print(f\"\"\"\n",
    "      Before prepend() :\n",
    "      ------------------\n",
    "      Head : {my_linked_list.head.value}\n",
    "      Tail : {my_linked_list.tail.value}\n",
    "      Length : {my_linked_list.length}\n",
    "      Linked List : {my_linked_list.print_list()}\n",
    "      \"\"\")\n",
    "\n",
    "my_linked_list.prepend(1)\n",
    "print(f\"\"\"\n",
    "      After prepend() :\n",
    "      -----------------\n",
    "      Head : {my_linked_list.head.value}\n",
    "      Tail : {my_linked_list.tail.value}\n",
    "      Length : {my_linked_list.length}\n",
    "      Linked List : {my_linked_list.print_list()}\n",
    "      \"\"\")"
   ]
  },
  {
   "cell_type": "code",
   "execution_count": 25,
   "metadata": {},
   "outputs": [
    {
     "name": "stdout",
     "output_type": "stream",
     "text": [
      "\n",
      "      3\n",
      "      2\n",
      "      None\n",
      "      \n"
     ]
    }
   ],
   "source": [
    "my_linked_list = LinkedList(3)\n",
    "my_linked_list.append(2)\n",
    "\n",
    "print(f\"\"\"\n",
    "      {my_linked_list.pop_first().value}\n",
    "      {my_linked_list.pop_first().value}\n",
    "      {my_linked_list.pop_first()}\n",
    "      \"\"\")"
   ]
  },
  {
   "cell_type": "code",
   "execution_count": 29,
   "metadata": {},
   "outputs": [
    {
     "name": "stdout",
     "output_type": "stream",
     "text": [
      "7\n"
     ]
    }
   ],
   "source": [
    "my_linked_list = LinkedList(11)\n",
    "my_linked_list.append(3)\n",
    "my_linked_list.append(23)\n",
    "my_linked_list.append(7)\n",
    "print(my_linked_list.get(3).value)"
   ]
  },
  {
   "cell_type": "code",
   "execution_count": 40,
   "metadata": {},
   "outputs": [
    {
     "name": "stdout",
     "output_type": "stream",
     "text": [
      "LL before set_value() : \n",
      "11\n",
      "3\n",
      "23\n",
      "7\n",
      "\n",
      "LL after set_value() :\n",
      "11\n",
      "3\n",
      "23\n",
      "17\n"
     ]
    }
   ],
   "source": [
    "my_linked_list = LinkedList(11)\n",
    "my_linked_list.append(3)\n",
    "my_linked_list.append(23)\n",
    "my_linked_list.append(7)\n",
    "print(\"LL before set_value() : \")\n",
    "my_linked_list.print_list()\n",
    "my_linked_list.set_value(3, 17)\n",
    "print(\"\\nLL after set_value() :\")\n",
    "my_linked_list.print_list()"
   ]
  }
 ],
 "metadata": {
  "kernelspec": {
   "display_name": "Python 3",
   "language": "python",
   "name": "python3"
  },
  "language_info": {
   "codemirror_mode": {
    "name": "ipython",
    "version": 3
   },
   "file_extension": ".py",
   "mimetype": "text/x-python",
   "name": "python",
   "nbconvert_exporter": "python",
   "pygments_lexer": "ipython3",
   "version": "3.10.6"
  },
  "orig_nbformat": 4
 },
 "nbformat": 4,
 "nbformat_minor": 2
}
